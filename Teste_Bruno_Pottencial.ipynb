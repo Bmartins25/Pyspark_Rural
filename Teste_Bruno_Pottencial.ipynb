{
  "nbformat": 4,
  "nbformat_minor": 0,
  "metadata": {
    "colab": {
      "provenance": [],
      "authorship_tag": "ABX9TyM9PAKAawnbTOZK7g7V3rnJ",
      "include_colab_link": true
    },
    "kernelspec": {
      "name": "python3",
      "display_name": "Python 3"
    },
    "language_info": {
      "name": "python"
    }
  },
  "cells": [
    {
      "cell_type": "markdown",
      "metadata": {
        "id": "view-in-github",
        "colab_type": "text"
      },
      "source": [
        "<a href=\"https://colab.research.google.com/github/Bmartins25/Pyspark_Rural_Pottencial/blob/main/Teste_Bruno_Pottencial.ipynb\" target=\"_parent\"><img src=\"https://colab.research.google.com/assets/colab-badge.svg\" alt=\"Open In Colab\"/></a>"
      ]
    },
    {
      "cell_type": "code",
      "source": [
        "pip install pyspark\n"
      ],
      "metadata": {
        "colab": {
          "base_uri": "https://localhost:8080/"
        },
        "id": "JK-sNrfhW-7F",
        "outputId": "9e781fc3-410e-42c9-9a37-0b2aaa5da0bd"
      },
      "execution_count": 1,
      "outputs": [
        {
          "output_type": "stream",
          "name": "stdout",
          "text": [
            "Collecting pyspark\n",
            "  Downloading pyspark-3.5.3.tar.gz (317.3 MB)\n",
            "\u001b[2K     \u001b[90m━━━━━━━━━━━━━━━━━━━━━━━━━━━━━━━━━━━━━━━━\u001b[0m \u001b[32m317.3/317.3 MB\u001b[0m \u001b[31m4.6 MB/s\u001b[0m eta \u001b[36m0:00:00\u001b[0m\n",
            "\u001b[?25h  Preparing metadata (setup.py) ... \u001b[?25l\u001b[?25hdone\n",
            "Requirement already satisfied: py4j==0.10.9.7 in /usr/local/lib/python3.10/dist-packages (from pyspark) (0.10.9.7)\n",
            "Building wheels for collected packages: pyspark\n",
            "  Building wheel for pyspark (setup.py) ... \u001b[?25l\u001b[?25hdone\n",
            "  Created wheel for pyspark: filename=pyspark-3.5.3-py2.py3-none-any.whl size=317840625 sha256=0f3bcdc031cfc6d5c88613c28571ab02320e23aa3c3cfd16c1d7c8041814e6ae\n",
            "  Stored in directory: /root/.cache/pip/wheels/1b/3a/92/28b93e2fbfdbb07509ca4d6f50c5e407f48dce4ddbda69a4ab\n",
            "Successfully built pyspark\n",
            "Installing collected packages: pyspark\n",
            "Successfully installed pyspark-3.5.3\n"
          ]
        }
      ]
    },
    {
      "cell_type": "code",
      "source": [
        "import pandas as pd\n",
        "from pyspark.sql import SparkSession\n",
        "import matplotlib.pyplot as plt\n",
        "import matplotlib.ticker as mticker"
      ],
      "metadata": {
        "id": "bXq9wudVDFRJ"
      },
      "execution_count": 2,
      "outputs": []
    },
    {
      "cell_type": "code",
      "source": [
        "file_path = \"/content/R_RURAL_2021.xlsx\"\n",
        "df_pandas = pd.read_excel(file_path, sheet_name='R_RURAL_2021')"
      ],
      "metadata": {
        "id": "9vFL3ArODI0i"
      },
      "execution_count": 4,
      "outputs": []
    },
    {
      "cell_type": "code",
      "source": [
        "# Iniciando uma sessão do Spark\n",
        "spark = SparkSession.builder.appName(\"SUSEP_Pottencial\").getOrCreate()"
      ],
      "metadata": {
        "id": "ifNG96iDDTGh"
      },
      "execution_count": 5,
      "outputs": []
    },
    {
      "cell_type": "code",
      "source": [
        "\n",
        "df_spark = spark.createDataFrame(df_pandas)"
      ],
      "metadata": {
        "id": "jxaW1noADaew"
      },
      "execution_count": 6,
      "outputs": []
    },
    {
      "cell_type": "code",
      "source": [
        "df_spark.show()"
      ],
      "metadata": {
        "colab": {
          "base_uri": "https://localhost:8080/"
        },
        "id": "5O6TmaHNDlCA",
        "outputId": "010a178d-392c-42e6-f5e2-5eac98294a7b"
      },
      "execution_count": 7,
      "outputs": [
        {
          "output_type": "stream",
          "name": "stdout",
          "text": [
            "+---------+-----------+--------+---------+-------+---------+-------+------+---------+-----------+--------+---+----------+--------+----------+---------+--------+--------+-------+----------+----------+----------+---------+---------+\n",
            "|  COD_APO|COD_ENDOSSO|COD_ITEM|DATA_COMP|COD_END|COB_FUNDO|COD_MOD|ID_BEM|COBERTURA|    CULTURA|   MUNIC| UF|INICIO_VIG| FIM_VIG|TIPO_FRANQ|VAL_FRANQ|AREA_SEG| IMP_SEG| PREMIO|PREMIO_SUB|ORIGEM_SUB|CORRETAGEM|PERC_CARR|PERC_DESC|\n",
            "+---------+-----------+--------+---------+-------+---------+-------+------+---------+-----------+--------+---+----------+--------+----------+---------+--------+--------+-------+----------+----------+----------+---------+---------+\n",
            "|292582168|    4257666| 6889891|     2021|      0|        S|     60|    60|      999|9.9999999E7| 44372.0| MT|  20200903|20210903|         1|     10.0|     0.0|210000.0| 452.94|       0.0|         0|   7033.71|     20.0|      0.0|\n",
            "|292582168|    4257666| 6889896|     2021|      0|        S|     60|    60|      100|9.9999999E7| 44372.0| MT|  20200903|20210903|         1|     10.0|     0.0|450000.0|3535.82|       0.0|         0|   7033.71|     20.0|      0.0|\n",
            "|292582168|    4257666| 6889896|     2021|      0|        S|     60|    60|      999|9.9999999E7| 44372.0| MT|  20200903|20210903|         1|     10.0|     0.0| 90000.0| 194.12|       0.0|         0|   7033.71|     20.0|      0.0|\n",
            "|292556275|    4219017| 6858237|     2021|      0|        S|     60|    60|      100|9.9999999E7| 32762.0| SP|  20200120|20220120|         1|     10.0|     0.0| 61500.0| 1371.5|       0.0|         0|    445.74|     20.0|      0.0|\n",
            "|289707920|     509905| 1300765|     2021|      1|        N|     80|    99|      999|9.9999999E7|431490.0| RS|  20200701|20200731|         9|      0.0|     0.0| 10220.0|   5.49|       0.0|         0|      1.65|      0.0|      0.0|\n",
            "|296679983|    8641366|20084534|     2021|      0|        S|     50|    10|      100|9.9999999E7| 22992.0| RS|  20190819|20200707|         9|      0.0|     0.0| 33000.0| 113.19|       0.0|         0|     22.63|      0.2|      0.0|\n",
            "|296679983|    8641366|20084552|     2021|      0|        S|     50|    50|      100|9.9999999E7|  2091.0| GO|  20190810|20200809|         9|      0.0|     0.0|263800.0|1564.33|       0.0|         0|    312.86|      0.2|      0.0|\n",
            "|296679983|    8641366|20084618|     2021|      0|        S|     50|    10|      100|9.9999999E7| 43287.0| SC|  20190819|20200803|         9|      0.0|     0.0| 35287.2| 121.03|       0.0|         0|      24.2|      0.2|      0.0|\n",
            "|296679983|    8641366|20084666|     2021|      0|        S|     50|    10|      100|9.9999999E7| 32865.0| RS|  20190815|20201012|         9|      0.0|     0.0|648000.0|2222.64|       0.0|         0|    444.52|      0.2|      0.0|\n",
            "|289707920|     509917| 1470946|     2021|      1|        N|     80|    99|      999|9.9999999E7|431490.0| RS|  20200901|20200930|         9|      0.0|     0.0| 39710.0|  20.65|       0.0|         0|       6.2|      0.0|      0.0|\n",
            "|289707920|     509899| 1239916|     2021|      1|        N|     80|    99|      999|9.9999999E7|431490.0| RS|  20200601|20200630|         9|      0.0|     0.0|125666.0|  52.28|       0.0|         0|     15.68|      0.0|      0.0|\n",
            "|289707920|     509917| 1470808|     2021|      1|        N|     80|    99|      999|9.9999999E7|431490.0| RS|  20200901|20200930|         9|      0.0|     0.0| 96981.0|  50.43|       0.0|         0|     15.13|      0.0|      0.0|\n",
            "|296678543|    8639680|14463257|     2021|      0|        N|     80|    99|      999|9.9999999E7| 49566.0| SC|  20210603|20220603|         9|      0.0|     0.0|43600.72| 211.46|       0.0|         0|     52.87|     25.0|      0.0|\n",
            "|296678543|    8639680|14463257|     2021|      0|        N|     80|    99|      999|9.9999999E7| 49566.0| SC|  20210603|20220603|         4|      0.0|     0.0|43600.72| 211.46|       0.0|         0|     52.87|     25.0|      0.0|\n",
            "|296678543|    8639680|14463257|     2021|      0|        N|     80|    99|      999|9.9999999E7| 49566.0| SC|  20210603|20220603|         9|      0.0|     0.0|   600.0| 211.46|       0.0|         0|     52.87|     25.0|      0.0|\n",
            "|296678543|    8639680|14463257|     2021|      0|        N|     80|    99|      999|9.9999999E7| 49566.0| SC|  20210603|20220603|         4|      0.0|     0.0|   600.0| 211.46|       0.0|         0|     52.87|     25.0|      0.0|\n",
            "|296679983|    8641366|20085119|     2021|      0|        S|     50|    60|      100|9.9999999E7| 50304.0| MG|  20190810|20200809|         9|      0.0|     0.0| 50000.0|  493.0|       0.0|         0|      98.6|      0.2|      0.0|\n",
            "|289707920|     509904| 1269565|     2021|      1|        N|     80|    99|      999|9.9999999E7|431490.0| RS|  20200701|20200731|         9|      0.0|     0.0| 35494.0|  19.08|       0.0|         0|      5.72|      0.0|      0.0|\n",
            "|296679983|    8641366|20134058|     2021|      0|        S|     50|    60|      100|9.9999999E7|  4312.0| PR|  20190824|20200823|         9|      0.0|     0.0|47495.77|  468.3|       0.0|         0|     93.66|      0.2|      0.0|\n",
            "|296679983|    8641366|20134008|     2021|      0|        S|     50|    60|      100|9.9999999E7| 32944.0| MG|  20190824|20200823|         9|      0.0|     0.0|42983.58| 189.98|       0.0|         0|     37.99|      0.2|      0.0|\n",
            "+---------+-----------+--------+---------+-------+---------+-------+------+---------+-----------+--------+---+----------+--------+----------+---------+--------+--------+-------+----------+----------+----------+---------+---------+\n",
            "only showing top 20 rows\n",
            "\n"
          ]
        }
      ]
    }
  ]
}