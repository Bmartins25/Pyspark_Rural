{
  "nbformat": 4,
  "nbformat_minor": 0,
  "metadata": {
    "colab": {
      "provenance": [],
      "authorship_tag": "ABX9TyP1QZKSvfK+fBw24N20xqs8",
      "include_colab_link": true
    },
    "kernelspec": {
      "name": "python3",
      "display_name": "Python 3"
    },
    "language_info": {
      "name": "python"
    }
  },
  "cells": [
    {
      "cell_type": "markdown",
      "metadata": {
        "id": "view-in-github",
        "colab_type": "text"
      },
      "source": [
        "<a href=\"https://colab.research.google.com/github/Bmartins25/Pyspark_Rural_/blob/main/Convert_Munici_Pottencial.ipynb\" target=\"_parent\"><img src=\"https://colab.research.google.com/assets/colab-badge.svg\" alt=\"Open In Colab\"/></a>"
      ]
    },
    {
      "cell_type": "code",
      "source": [
        "pip install dbfread"
      ],
      "metadata": {
        "colab": {
          "base_uri": "https://localhost:8080/"
        },
        "id": "yDJx04DcJ0O3",
        "outputId": "4c6da77a-3001-441a-e699-c36a6be182cf"
      },
      "execution_count": 2,
      "outputs": [
        {
          "output_type": "stream",
          "name": "stdout",
          "text": [
            "Collecting dbfread\n",
            "  Downloading dbfread-2.0.7-py2.py3-none-any.whl.metadata (3.3 kB)\n",
            "Downloading dbfread-2.0.7-py2.py3-none-any.whl (20 kB)\n",
            "Installing collected packages: dbfread\n",
            "Successfully installed dbfread-2.0.7\n"
          ]
        }
      ]
    },
    {
      "cell_type": "code",
      "source": [
        "import csv\n",
        "from dbfread import DBF\n",
        "\n",
        "# Caminho para o arquivo DBF\n",
        "dbf_file = '/content/RUR_MUNI.DBF'  # Substitua pelo caminho correto\n",
        "\n",
        "# Caminho de saída do arquivo CSV\n",
        "csv_file = '/content/sample_data/arquivo_convertido.csv'\n",
        "\n",
        "# Ler o arquivo DBF\n",
        "table = DBF(dbf_file)\n",
        "\n",
        "# Abrir o arquivo CSV para escrita\n",
        "with open(csv_file, 'w', newline='', encoding='utf-8') as csvfile:\n",
        "    csv_writer = csv.writer(csvfile)\n",
        "\n",
        "    # Escrever o cabeçalho\n",
        "    csv_writer.writerow(table.field_names)\n",
        "\n",
        "    # Escrever as linhas do DBF no CSV\n",
        "    for record in table:\n",
        "        csv_writer.writerow(list(record.values()))\n",
        "\n",
        "print(f'Arquivo convertido com sucesso para {csv_file}')\n"
      ],
      "metadata": {
        "colab": {
          "base_uri": "https://localhost:8080/"
        },
        "id": "aDg-hTTWQ_XA",
        "outputId": "2d53103d-1dbc-4775-a791-b90219136e67"
      },
      "execution_count": 20,
      "outputs": [
        {
          "output_type": "stream",
          "name": "stdout",
          "text": [
            "Arquivo convertido com sucesso para /content/sample_data/arquivo_convertido.csv\n"
          ]
        }
      ]
    }
  ]
}